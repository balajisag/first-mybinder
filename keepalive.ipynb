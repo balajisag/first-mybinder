import time
while True:
     time.sleep(600)
     print(datetime.datetime.now())
