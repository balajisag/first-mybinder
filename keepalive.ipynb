import datetime
import time
import pytz
LTZ = pytz.timezone('Australia/Brisbane')
while True:
    time.sleep(6)
    print(datetime.datetime.now(LTZ))
